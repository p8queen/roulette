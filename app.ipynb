{
 "cells": [
  {
   "cell_type": "code",
   "execution_count": 6,
   "metadata": {},
   "outputs": [],
   "source": [
    "from random import randint as r\n",
    "\n",
    "bola = lambda: r(0, 36)\n",
    "\n",
    "def color(numero):\n",
    "    rojo = [1, 3, 5, 7, 9, 12, 14, 16, 18, 19, 21, 23, 25, 27, 30, 32, 34, 36]\n",
    "    if numero == 0:\n",
    "        return 'verde'\n",
    "    elif numero in rojo:\n",
    "        return 'rojo'\n",
    "    else:\n",
    "        return 'negro'\n",
    "\n",
    "def fibo(n):\n",
    "    a, b = 1, 1\n",
    "    for _ in range(n):\n",
    "        a, b = b, a + b\n",
    "    return a"
   ]
  },
  {
   "cell_type": "code",
   "execution_count": 21,
   "metadata": {},
   "outputs": [
    {
     "name": "stdout",
     "output_type": "stream",
     "text": [
      " ----------- Totales ----------- \n",
      "Games: 235\n",
      "Progress: -5\n",
      "\n",
      "-------  Secuencia: --------\n",
      "[-5, -10, 30, -5, 20, 10, -5, -10, 30, 10, -5, -10, -15, -25, 80, 10, -5, 20, 10, -5, -10, -15, 50, -5, -10, -15, 50, -5, -10, -15, 50, -5, -10, -15, -25, -40, -65, 210]\n",
      "\n",
      "[-5, -10, 30, -10, 30, 20, -5, -10, 30, 20, -5, -10, -15, -20, 50, 40, -15, 40, 30, -10, -15, -20, 50, -20, -25, -30, 70, -30, -35, -40, 90, -40, -45, -50, -55, -60, -65, 140]\n",
      "\n",
      "-------  drowdown: --------\n",
      "-5, -15, 15, 10, 30, 40, 35, 25, 55, 65, 60, 50, 35, 10, 90, 100, 95, 115, 125, 120, 110, 95, 145, 140, 130, 115, 165, 160, 150, 135, 185, 180, 170, 155, 130, 90, 25, \n",
      "-5, -15, 15, 5, 35, 55, 50, 40, 70, 90, 85, 75, 60, 40, 90, 130, 115, 155, 185, 175, 160, 140, 190, 170, 145, 115, 185, 155, 120, 80, 170, 130, 85, 35, -20, -80, -145, "
     ]
    }
   ],
   "source": [
    "# bet one dozen using fibonacci sequence   \n",
    "bet = 5\n",
    "win = False\n",
    "games = []\n",
    "progre = []\n",
    "i = 1\n",
    "p = 1 # system 1-2-3\n",
    "for x in range(90):\n",
    "    n = bola()\n",
    "    if 1 <= n < 13:\n",
    "        #print(n, '2nd dozen')\n",
    "        win = True\n",
    "    else:    \n",
    "        #print(n, '1st dozen')\n",
    "        win = False\n",
    "    if win:\n",
    "        #print('You win', n)\n",
    "        games.append(2*bet*fibo(i))\n",
    "        progre.append(2*bet*p)\n",
    "        i = 1\n",
    "        p -= 1\n",
    "        p = max(1, p)\n",
    "    else:\n",
    "        #print('You lose', n)\n",
    "        games.append(-(bet*fibo(i)))\n",
    "        progre.append(-(bet*p))\n",
    "        i += 1\n",
    "        p += 1\n",
    "    #print(f'Games: {games}, Total: {sum(games)}')\n",
    "    #print(f'Progress: {progre}, Total: {sum(progre)}')\n",
    "    if sum(games) >= 200:\n",
    "        break\n",
    "\n",
    "# max drowdown \n",
    "def drowdown(lista):\n",
    "    j = 1\n",
    "    while j < len(lista):\n",
    "        print(sum(lista[:j]), end=', ')\n",
    "        j += 1\n",
    "\n",
    "print(' ----------- Totales ----------- ')\n",
    "print(f'Games: {sum(games)}')\n",
    "print(f'Progress: {sum(progre)}')\n",
    "print()\n",
    "\n",
    "print('-------  Secuencia: --------')\n",
    "print(games)\n",
    "print()\n",
    "print(progre)\n",
    "print()\n",
    "\n",
    "print('-------  drowdown: --------')\n",
    "drowdown(games)\n",
    "print()\n",
    "drowdown(progre)\n"
   ]
  }
 ],
 "metadata": {
  "kernelspec": {
   "display_name": ".venv",
   "language": "python",
   "name": "python3"
  },
  "language_info": {
   "codemirror_mode": {
    "name": "ipython",
    "version": 3
   },
   "file_extension": ".py",
   "mimetype": "text/x-python",
   "name": "python",
   "nbconvert_exporter": "python",
   "pygments_lexer": "ipython3",
   "version": "3.11.7"
  }
 },
 "nbformat": 4,
 "nbformat_minor": 2
}
