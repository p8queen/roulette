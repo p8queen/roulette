{
 "cells": [
  {
   "cell_type": "code",
   "execution_count": 9,
   "metadata": {},
   "outputs": [],
   "source": [
    "from random import randint as r\n",
    "\n",
    "bola = lambda: r(0, 36)\n"
   ]
  },
  {
   "cell_type": "code",
   "execution_count": 33,
   "metadata": {},
   "outputs": [
    {
     "name": "stdout",
     "output_type": "stream",
     "text": [
      "You win\n",
      "You win\n",
      "You win\n",
      "You win\n",
      "You win\n",
      "You win\n",
      "You win\n",
      "You lose\n",
      "You win\n",
      "You lose\n",
      "You win\n",
      "You lose\n",
      "You win\n",
      "You lose\n",
      "You win\n",
      "You win\n",
      "You win\n",
      "You lose\n",
      "You lose\n",
      "i -1\n",
      "sumLoss -40\n",
      "i -2\n",
      "sumLoss -60\n",
      "You win\n",
      "Games: [10, 10, 10, 10, 10, 10, 10, -20, 20, -20, 20, -20, 20, -20, 20, 10, 10, -20, -40, 30], Total: 60\n"
     ]
    }
   ],
   "source": [
    "#bet in 2nd and 3rd dozen\n",
    "bet = 20\n",
    "win = False\n",
    "games = []\n",
    "for x in range(20):\n",
    "    n = bola()\n",
    "    if 12 <= n < 25:\n",
    "        #print(n, '2nd dozen')\n",
    "        win = True\n",
    "    elif 24 < n <= 36:\n",
    "        #print(n, '3rd dozen')\n",
    "        win = True\n",
    "    else:    \n",
    "        #print(n, '1st dozen')\n",
    "        win = False\n",
    "    if win:\n",
    "        print('You win')\n",
    "        games.append(bet//2)\n",
    "        bet = 20\n",
    "    else:\n",
    "        print('You lose')\n",
    "        games.append(-bet)\n",
    "        if len(games)>1 and games[-1] < 0 and games[-2] > 0:\n",
    "            bet *= 2\n",
    "        else:\n",
    "            sumLoss = 0\n",
    "            i = -1\n",
    "            while games[i] < 0:\n",
    "                print('i', i)\n",
    "                sumLoss += games[i]\n",
    "                print('sumLoss', sumLoss)\n",
    "                i -= 1\n",
    "            bet = -sumLoss\n",
    "            \n",
    "print(f'Games: {games}, Total: {sum(games)}')\n",
    "\n",
    "        \n"
   ]
  },
  {
   "cell_type": "code",
   "execution_count": 42,
   "metadata": {},
   "outputs": [
    {
     "name": "stdout",
     "output_type": "stream",
     "text": [
      "You win\n",
      "Games: [20], Total: 20\n",
      "You lose\n",
      "Games: [20, -10], Total: 10\n",
      "You win\n",
      "Games: [20, -10, 40], Total: 50\n",
      "You win\n",
      "Games: [20, -10, 40, 20], Total: 70\n",
      "You win\n",
      "Games: [20, -10, 40, 20, 20], Total: 90\n",
      "You lose\n",
      "Games: [20, -10, 40, 20, 20, -10], Total: 80\n",
      "You lose\n",
      "Games: [20, -10, 40, 20, 20, -10, -20], Total: 60\n",
      "You lose\n",
      "Games: [20, -10, 40, 20, 20, -10, -20, -30], Total: 30\n",
      "You lose\n",
      "Games: [20, -10, 40, 20, 20, -10, -20, -30, -50], Total: -20\n",
      "You win\n",
      "Games: [20, -10, 40, 20, 20, -10, -20, -30, -50, 160], Total: 140\n",
      "Fibonacci: [1, 2, 3, 5, 8, 13, 21, 34, 55, 89, 144, 233, 377, 610, 987]\n"
     ]
    }
   ],
   "source": [
    "# bet one dozen using fibonacci sequence\n",
    "bet = 10\n",
    "win = False\n",
    "games = []\n",
    "fib = [1, 2, 3, 5, 8, 13, 21, 34, 55, 89, 144, 233, 377, 610, 987]\n",
    "i = 0\n",
    "for x in range(20):\n",
    "    n = bola()\n",
    "    if 12 <= n < 25:\n",
    "        #print(n, '2nd dozen')\n",
    "        win = True\n",
    "    elif 24 < n <= 36:\n",
    "        #print(n, '3rd dozen')\n",
    "        win = False\n",
    "    else:    \n",
    "        #print(n, '1st dozen')\n",
    "        win = False\n",
    "    if win:\n",
    "        print('You win')\n",
    "        games.append(2*bet*fib[i])\n",
    "        i -= 1\n",
    "        i = max(0, i)\n",
    "    else:\n",
    "        print('You lose')\n",
    "        games.append(-(bet*fib[i]))\n",
    "        i += 1\n",
    "    print(f'Games: {games}, Total: {sum(games)}')\n",
    "    if sum(games) > 100:\n",
    "        break\n",
    "print(f'Fibonacci: {fib}')\n"
   ]
  }
 ],
 "metadata": {
  "kernelspec": {
   "display_name": ".venv",
   "language": "python",
   "name": "python3"
  },
  "language_info": {
   "codemirror_mode": {
    "name": "ipython",
    "version": 3
   },
   "file_extension": ".py",
   "mimetype": "text/x-python",
   "name": "python",
   "nbconvert_exporter": "python",
   "pygments_lexer": "ipython3",
   "version": "3.11.7"
  }
 },
 "nbformat": 4,
 "nbformat_minor": 2
}
